{
 "cells": [
  {
   "cell_type": "code",
   "execution_count": 261,
   "metadata": {},
   "outputs": [],
   "source": [
    "import psycopg2 as pg\n",
    "import pickle\n",
    "import glob\n",
    "import pandas.io.sql as psql\n",
    "import pandas as pd\n",
    "import pprint\n",
    "from IPython.display import clear_output\n",
    "import os\n",
    "from sklearn import preprocessing\n",
    "import numpy as np\n",
    "from sklearn import svm\n",
    "from sklearn.model_selection import train_test_split"
   ]
  },
  {
   "cell_type": "code",
   "execution_count": 12,
   "metadata": {},
   "outputs": [],
   "source": [
    "# connect to the database\n",
    "try:\n",
    "    conn = pg.connect(\"dbname='DP' user='postgres' host='localhost' password='root'\")\n",
    "except:\n",
    "    print (\"Unable to connect to the database\")"
   ]
  },
  {
   "cell_type": "markdown",
   "metadata": {},
   "source": [
    "### for every comment made by (suspicious) user calculate additional attributes\n",
    "\n",
    "    - (numof_older_comments)        \\# of comments made before his comment was made\n",
    "    - (numof_parent_comments)       \\# of comments with at least one reply\n",
    "    - (numof_replies)               \\# of total replies in submission\n",
    "    - (numof_authors)               \\# of unique authors in submisission to the point user made comment (including suspicious user that made comment we are calculating attributes for)\n",
    "    - (numof_author_older_comments) \\# of comments by (supsicious) users (BEFORE current comment)- this will tell us how long user stayed in discussion\n",
    "#### future\n",
    "- \\# of comments in most developed comment thread\n",
    "- \\# of comments with score greater than threshold X\n",
    "\n",
    "\n",
    "### other attributes that are already present\n",
    "- score\n",
    "- controversiality\n",
    "- created_utc - from this we can calculate how often user posted, how long was greatest gap between his posts, how active he was, did he slept at all ? etc.\n",
    "- subreddit\n",
    "- edited\n",
    "\n",
    "### all attributes will be grouped into interval by specific amount of days\n"
   ]
  },
  {
   "cell_type": "code",
   "execution_count": 55,
   "metadata": {},
   "outputs": [],
   "source": [
    "#create empty dataframe\n",
    "#suspicious - 1 for suspicious user; 0 - for regular user\n",
    "columns = ['comment_id', 'suspicious', 'numof_older_comments','numof_parent_comments', 'numof_replies', 'numof_authors', 'numof_author_older_comments']\n",
    "dataFrame = pd.DataFrame(columns=columns)"
   ]
  },
  {
   "cell_type": "markdown",
   "metadata": {},
   "source": [
    "# caluclate attributes for suspicious users"
   ]
  },
  {
   "cell_type": "code",
   "execution_count": 56,
   "metadata": {},
   "outputs": [
    {
     "name": "stdout",
     "output_type": "stream",
     "text": [
      "940\n"
     ]
    }
   ],
   "source": [
    "pathForSuspiciousComments = 'D:\\\\skola\\\\ING\\\\0.DP\\\\0.dataset\\\\6. Reddit Russian trolls\\\\0.data\\\\suspicious\\\\'\n",
    "\n",
    "i = 0 \n",
    "j = 0\n",
    "#for all comments made by all suspicious user - for every suspicious user\n",
    "for file in glob.glob(pathForSuspiciousComments + '*_comments.pkl'):\n",
    "    with open(file, 'rb') as f: \n",
    "        suspiciousAccountComments = pickle.load(f)\n",
    "    clear_output()\n",
    "    print(j)\n",
    "    j += 1\n",
    "    for comment in suspiciousAccountComments:\n",
    "        # number of comments made before his (examined user) comment was made\n",
    "        numof_older_comments = psql.read_sql(\"SELECT count(id) FROM comments WHERE created_utc < \" + str(comment['created_utc']) + \" AND link_id = '\" + comment['link_id'] + \"'\", conn)\n",
    "        # number of comments with at least one reply (- 1 because parent can be link_id as well)\n",
    "        numof_parent_comments = psql.read_sql(\"SELECT COUNT(DISTINCT parent_id) - 1 AS count FROM comments WHERE created_utc < \" + str(comment['created_utc']) + \" AND link_id = '\" + comment['link_id'] + \"'\", conn)\n",
    "        # number of total replies in submission\n",
    "        numof_replies = psql.read_sql(\"SELECT count(id) FROM comments WHERE created_utc < \" + str(comment['created_utc']) + \" AND link_id = '\" + comment['link_id'] + \"' and parent_id != '\" + comment['link_id'] + \"'\", conn)\n",
    "        # number of unique authors in submisission to the point user made comment (including suspicious user that made comment we are calculating attributes for)\n",
    "        numof_authors = psql.read_sql(\"SELECT COUNT(DISTINCT author) FROM comments WHERE created_utc < \" + str(comment['created_utc']) + \" AND link_id = '\" + comment['link_id'] + \"'\", conn)\n",
    "        # number of comments by supsicious users (BEFORE current comment)- this will tell us how long user stayed in discussion\n",
    "        numof_author_older_comments = psql.read_sql(\"SELECT count(id) FROM comments WHERE created_utc < \" + str(comment['created_utc']) + \" AND link_id = '\" + comment['link_id'] + \"' AND author = '\" + comment['author'] + \"'\", conn)\n",
    "    \n",
    "        # 1 - for suspicious user\n",
    "        dataFrame.loc[i] = [comment['id'], 1, numof_older_comments['count'][0], numof_parent_comments['count'][0], numof_replies['count'][0], numof_authors['count'][0], numof_author_older_comments['count'][0]]\n",
    "        i += 1"
   ]
  },
  {
   "cell_type": "markdown",
   "metadata": {},
   "source": [
    "# calculate attributes for regular users"
   ]
  },
  {
   "cell_type": "code",
   "execution_count": 82,
   "metadata": {},
   "outputs": [
    {
     "name": "stdout",
     "output_type": "stream",
     "text": [
      "237\n"
     ]
    }
   ],
   "source": [
    "pathForRegularComments = 'D:\\\\skola\\\\ING\\\\0.DP\\\\0.dataset\\\\6. Reddit Russian trolls\\\\0.data\\\\normal\\\\'\n",
    "\n",
    "#ignore blacklisted regular users \n",
    "\n",
    "with open('D:\\\\skola\\\\ING\\\\0.DP\\\\0.dataset\\\\6. Reddit Russian trolls\\\\0.data\\\\blacklistedRegularUsers.pkl', 'rb') as f: \n",
    "    blacklistedRegularUsers = pickle.load(f)\n",
    "\n",
    "j = 0\n",
    "#for all comments made by all regular user - for every regular user\n",
    "for file in glob.glob(pathForRegularComments + '*_comments.pkl'):\n",
    "    with open(file, 'rb') as f: \n",
    "        regularAccountComments = pickle.load(f)\n",
    "    \n",
    "    #if regular user is not blacklisted\n",
    "    if (os.path.basename(file)[:-13] not in blacklistedRegularUsers):  \n",
    "        clear_output()\n",
    "        print(j)\n",
    "        j += 1\n",
    "        for comment in regularAccountComments:\n",
    "            # number of comments made before his (examined user) comment was made\n",
    "            numof_older_comments = psql.read_sql(\"SELECT count(id) FROM comments WHERE created_utc < \" + str(comment['created_utc']) + \" AND link_id = '\" + comment['link_id'] + \"'\", conn)\n",
    "            # number of comments with at least one reply (- 1 because parent can be link_id as well)\n",
    "            numof_parent_comments = psql.read_sql(\"SELECT COUNT(DISTINCT parent_id) - 1 AS count FROM comments WHERE created_utc < \" + str(comment['created_utc']) + \" AND link_id = '\" + comment['link_id'] + \"'\", conn)\n",
    "            # number of total replies in submission\n",
    "            numof_replies = psql.read_sql(\"SELECT count(id) FROM comments WHERE created_utc < \" + str(comment['created_utc']) + \" AND link_id = '\" + comment['link_id'] + \"' and parent_id != '\" + comment['link_id'] + \"'\", conn)\n",
    "            # number of unique authors in submisission to the point user made comment (including regular user that made comment we are calculating attributes for)\n",
    "            numof_authors = psql.read_sql(\"SELECT COUNT(DISTINCT author) FROM comments WHERE created_utc < \" + str(comment['created_utc']) + \" AND link_id = '\" + comment['link_id'] + \"'\", conn)\n",
    "            # number of comments by supsicious users (BEFORE current comment)- this will tell us how long user stayed in discussion\n",
    "            numof_author_older_comments = psql.read_sql(\"SELECT count(id) FROM comments WHERE created_utc < \" + str(comment['created_utc']) + \" AND link_id = '\" + comment['link_id'] + \"' AND author = '\" + comment['author'] + \"'\", conn)\n",
    "\n",
    "            dataFrame.loc[i] = [comment['id'], 0, numof_older_comments['count'][0], numof_parent_comments['count'][0], numof_replies['count'][0], numof_authors['count'][0], numof_author_older_comments['count'][0]]\n",
    "            i += 1"
   ]
  },
  {
   "cell_type": "markdown",
   "metadata": {},
   "source": [
    "# save dataframe "
   ]
  },
  {
   "cell_type": "code",
   "execution_count": 85,
   "metadata": {},
   "outputs": [],
   "source": [
    "#save complete submissions\n",
    "path = 'D:\\\\skola\\\\ING\\\\0.DP\\\\0.dataset\\\\6. Reddit Russian trolls\\\\0.data\\\\'\n",
    "filename = 'attributes.pkl'\n",
    "with open(path + filename, 'wb') as f:\n",
    "    pickle.dump(dataFrame, f)"
   ]
  },
  {
   "cell_type": "markdown",
   "metadata": {},
   "source": [
    "# calculation of individual attributes"
   ]
  },
  {
   "cell_type": "code",
   "execution_count": 8,
   "metadata": {},
   "outputs": [],
   "source": [
    "for comment in suspiciousAccountComments:\n",
    "    # number of comments made before his (examined user) comment was made\n",
    "    df = psql.read_sql(\"SELECT count(id) FROM comments WHERE created_utc < \" + str(comment['created_utc']) + \" AND link_id = '\" + comment['link_id'] + \"'\", conn)\n",
    "    df\n",
    "    break"
   ]
  },
  {
   "cell_type": "code",
   "execution_count": null,
   "metadata": {},
   "outputs": [],
   "source": []
  },
  {
   "cell_type": "code",
   "execution_count": 75,
   "metadata": {},
   "outputs": [],
   "source": [
    "for comment in suspiciousAccountComments:\n",
    "    # number of comments with at least one reply (- 1 because parent can be link_id as well)\n",
    "    df = psql.read_sql(\"SELECT COUNT(DISTINCT parent_id) - 1 AS count FROM comments WHERE created_utc < \" + str(comment['created_utc']) + \" AND link_id = '\" + comment['link_id'] + \"'\", conn)\n",
    "    df\n",
    "    break"
   ]
  },
  {
   "cell_type": "code",
   "execution_count": 81,
   "metadata": {},
   "outputs": [
    {
     "data": {
      "text/plain": [
       "14"
      ]
     },
     "execution_count": 81,
     "metadata": {},
     "output_type": "execute_result"
    }
   ],
   "source": [
    "df['count'][0]"
   ]
  },
  {
   "cell_type": "code",
   "execution_count": 59,
   "metadata": {},
   "outputs": [],
   "source": [
    "for comment in suspiciousAccountComments:\n",
    "    # number of total replies in submission\n",
    "    df = psql.read_sql(\"SELECT count(id) FROM comments WHERE created_utc < \" + str(comment['created_utc']) + \" AND link_id = '\" + comment['link_id'] + \"' and parent_id != '\" + comment['link_id'] + \"'\", conn)\n",
    "    df\n",
    "    break"
   ]
  },
  {
   "cell_type": "code",
   "execution_count": 60,
   "metadata": {},
   "outputs": [
    {
     "data": {
      "text/html": [
       "<div>\n",
       "<style scoped>\n",
       "    .dataframe tbody tr th:only-of-type {\n",
       "        vertical-align: middle;\n",
       "    }\n",
       "\n",
       "    .dataframe tbody tr th {\n",
       "        vertical-align: top;\n",
       "    }\n",
       "\n",
       "    .dataframe thead th {\n",
       "        text-align: right;\n",
       "    }\n",
       "</style>\n",
       "<table border=\"1\" class=\"dataframe\">\n",
       "  <thead>\n",
       "    <tr style=\"text-align: right;\">\n",
       "      <th></th>\n",
       "      <th>count</th>\n",
       "    </tr>\n",
       "  </thead>\n",
       "  <tbody>\n",
       "    <tr>\n",
       "      <th>0</th>\n",
       "      <td>25</td>\n",
       "    </tr>\n",
       "  </tbody>\n",
       "</table>\n",
       "</div>"
      ],
      "text/plain": [
       "   count\n",
       "0     25"
      ]
     },
     "execution_count": 60,
     "metadata": {},
     "output_type": "execute_result"
    }
   ],
   "source": [
    "df"
   ]
  },
  {
   "cell_type": "code",
   "execution_count": 63,
   "metadata": {},
   "outputs": [],
   "source": [
    "for comment in suspiciousAccountComments:\n",
    "    # number of unique authors in submisission to the point user made comment (including suspicious user that made comment we are calculating attributes for)\n",
    "    df = psql.read_sql(\"SELECT COUNT(DISTINCT author) FROM comments WHERE created_utc < \" + str(comment['created_utc']) + \" AND link_id = '\" + comment['link_id'] + \"'\", conn)\n",
    "    df\n",
    "    break"
   ]
  },
  {
   "cell_type": "code",
   "execution_count": 64,
   "metadata": {},
   "outputs": [
    {
     "data": {
      "text/html": [
       "<div>\n",
       "<style scoped>\n",
       "    .dataframe tbody tr th:only-of-type {\n",
       "        vertical-align: middle;\n",
       "    }\n",
       "\n",
       "    .dataframe tbody tr th {\n",
       "        vertical-align: top;\n",
       "    }\n",
       "\n",
       "    .dataframe thead th {\n",
       "        text-align: right;\n",
       "    }\n",
       "</style>\n",
       "<table border=\"1\" class=\"dataframe\">\n",
       "  <thead>\n",
       "    <tr style=\"text-align: right;\">\n",
       "      <th></th>\n",
       "      <th>count</th>\n",
       "    </tr>\n",
       "  </thead>\n",
       "  <tbody>\n",
       "    <tr>\n",
       "      <th>0</th>\n",
       "      <td>17</td>\n",
       "    </tr>\n",
       "  </tbody>\n",
       "</table>\n",
       "</div>"
      ],
      "text/plain": [
       "   count\n",
       "0     17"
      ]
     },
     "execution_count": 64,
     "metadata": {},
     "output_type": "execute_result"
    }
   ],
   "source": [
    "df"
   ]
  },
  {
   "cell_type": "code",
   "execution_count": 73,
   "metadata": {},
   "outputs": [],
   "source": [
    "for comment in suspiciousAccountComments:\n",
    "    # number of comments by supsicious users (BEFORE current comment)- this will tell us how long user stayed in discussion\n",
    "    df = psql.read_sql(\"SELECT count(id) FROM comments WHERE created_utc < \" + str(comment['created_utc']) + \" AND link_id = '\" + comment['link_id'] + \"' AND author = '\" + comment['author'] + \"'\", conn)\n",
    "    df\n",
    "    break"
   ]
  },
  {
   "cell_type": "code",
   "execution_count": 74,
   "metadata": {},
   "outputs": [
    {
     "data": {
      "text/html": [
       "<div>\n",
       "<style scoped>\n",
       "    .dataframe tbody tr th:only-of-type {\n",
       "        vertical-align: middle;\n",
       "    }\n",
       "\n",
       "    .dataframe tbody tr th {\n",
       "        vertical-align: top;\n",
       "    }\n",
       "\n",
       "    .dataframe thead th {\n",
       "        text-align: right;\n",
       "    }\n",
       "</style>\n",
       "<table border=\"1\" class=\"dataframe\">\n",
       "  <thead>\n",
       "    <tr style=\"text-align: right;\">\n",
       "      <th></th>\n",
       "      <th>count</th>\n",
       "    </tr>\n",
       "  </thead>\n",
       "  <tbody>\n",
       "    <tr>\n",
       "      <th>0</th>\n",
       "      <td>2</td>\n",
       "    </tr>\n",
       "  </tbody>\n",
       "</table>\n",
       "</div>"
      ],
      "text/plain": [
       "   count\n",
       "0      2"
      ]
     },
     "execution_count": 74,
     "metadata": {},
     "output_type": "execute_result"
    }
   ],
   "source": [
    "df"
   ]
  },
  {
   "cell_type": "code",
   "execution_count": null,
   "metadata": {},
   "outputs": [],
   "source": []
  },
  {
   "cell_type": "code",
   "execution_count": null,
   "metadata": {},
   "outputs": [],
   "source": []
  }
 ],
 "metadata": {
  "kernelspec": {
   "display_name": "Python 3",
   "language": "python",
   "name": "python3"
  },
  "language_info": {
   "codemirror_mode": {
    "name": "ipython",
    "version": 3
   },
   "file_extension": ".py",
   "mimetype": "text/x-python",
   "name": "python",
   "nbconvert_exporter": "python",
   "pygments_lexer": "ipython3",
   "version": "3.6.4"
  }
 },
 "nbformat": 4,
 "nbformat_minor": 2
}
