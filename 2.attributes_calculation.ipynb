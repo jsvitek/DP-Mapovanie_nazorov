{
 "cells": [
  {
   "cell_type": "code",
   "execution_count": 5,
   "metadata": {},
   "outputs": [],
   "source": [
    "import psycopg2 as pg\n",
    "import pickle\n",
    "import glob\n",
    "import pandas.io.sql as psql\n",
    "import pandas as pd\n",
    "import pprint\n",
    "from IPython.display import clear_output\n",
    "import os\n",
    "from sklearn import preprocessing\n",
    "import numpy as np\n",
    "from sklearn import svm\n",
    "from sklearn.model_selection import train_test_split"
   ]
  },
  {
   "cell_type": "code",
   "execution_count": 6,
   "metadata": {},
   "outputs": [],
   "source": [
    "# connect to the database\n",
    "try:\n",
    "    conn = pg.connect(\"dbname='DP' user='postgres' host='localhost' password='root'\")\n",
    "except:\n",
    "    print (\"Unable to connect to the database\")"
   ]
  },
  {
   "cell_type": "markdown",
   "metadata": {},
   "source": [
    "### for every comment made by (suspicious) user calculate additional attributes\n",
    "\n",
    "    - (numof_older_comments)        \\# of comments made before his comment was made\n",
    "    - (numof_parent_comments)       \\# of comments with at least one reply\n",
    "    - (numof_replies)               \\# of total replies in submission\n",
    "    - (numof_authors)               \\# of unique authors in submisission to the point user made comment (including suspicious user that made comment we are calculating attributes for)\n",
    "    - (numof_author_older_comments) \\# of comments by (supsicious) users (BEFORE current comment)- this will tell us how long user stayed in discussion\n",
    "#### DP3\n",
    "    - (numof_most_replies) \\# of comments in most developed comment thread\n",
    "    - (numof_top_comments) \\# of comments with score greater than num. of authors in submission\n",
    "    - (numof_worst_comments) \\# of comments with negative score\n",
    "##### other attributes that are already present\n",
    "    - (edited) - whether comment was edited (this is added to attribute vector in file 3.classification)\n",
    "    - (controversiality) - whether there is comparable amount of upvotes and downvotes (this is added to attribute vector in file 3.classification)\n",
    "    -(score) score\n",
    "    -(created_utc) created_utc - from this we can calculate how often user posted, how long was greatest gap between his posts, how active he was, did he slept at all ? etc.\n",
    "    -(subreddit) subreddit\n",
    "\n",
    "### all attributes will be grouped into interval by specific amount of days\n"
   ]
  },
  {
   "cell_type": "code",
   "execution_count": 67,
   "metadata": {},
   "outputs": [],
   "source": [
    "#create empty dataframe\n",
    "#suspicious - 1 for suspicious user; 0 - for regular user\n",
    "columns = ['comment_id', 'suspicious', 'numof_older_comments','numof_parent_comments', 'numof_replies', 'numof_authors', 'numof_author_older_comments', 'numof_most_replies', 'numof_top_comments', 'numof_worst_comments', 'score', 'created_utc', 'subreddit']\n",
    "dataFrame = pd.DataFrame(columns=columns)"
   ]
  },
  {
   "cell_type": "markdown",
   "metadata": {},
   "source": [
    "# caluclate attributes for suspicious users"
   ]
  },
  {
   "cell_type": "code",
   "execution_count": 69,
   "metadata": {},
   "outputs": [
    {
     "name": "stdout",
     "output_type": "stream",
     "text": [
      "940\n"
     ]
    }
   ],
   "source": [
    "pathForSuspiciousComments = 'D:\\\\skola\\\\ING\\\\0.DP\\\\0.dataset\\\\6. Reddit Russian trolls\\\\0.data\\\\suspicious\\\\'\n",
    "\n",
    "i = 0 \n",
    "j = 0\n",
    "#for all comments made by all suspicious user - for every suspicious user\n",
    "for file in glob.glob(pathForSuspiciousComments + '*_comments.pkl'):\n",
    "    with open(file, 'rb') as f: \n",
    "        suspiciousAccountComments = pickle.load(f)\n",
    "    clear_output()\n",
    "    print(j)\n",
    "    j += 1\n",
    "    for comment in suspiciousAccountComments:\n",
    "        # number of comments made before his (examined user) comment was made\n",
    "        numof_older_comments = psql.read_sql(\"SELECT count(id) FROM comments WHERE created_utc < \" + str(comment['created_utc']) + \" AND link_id = '\" + comment['link_id'] + \"'\", conn)\n",
    "        # number of comments with at least one reply (- 1 because parent can be link_id as well)\n",
    "        numof_parent_comments = psql.read_sql(\"SELECT COUNT(DISTINCT parent_id) - 1 AS count FROM comments WHERE created_utc < \" + str(comment['created_utc']) + \" AND link_id = '\" + comment['link_id'] + \"'\", conn)\n",
    "        # number of total replies in submission\n",
    "        numof_replies = psql.read_sql(\"SELECT count(id) FROM comments WHERE created_utc < \" + str(comment['created_utc']) + \" AND link_id = '\" + comment['link_id'] + \"' and parent_id != '\" + comment['link_id'] + \"'\", conn)\n",
    "        # number of unique authors in submisission to the point user made comment (including suspicious user that made comment we are calculating attributes for)\n",
    "        numof_authors = psql.read_sql(\"SELECT COUNT(DISTINCT author) FROM comments WHERE created_utc < \" + str(comment['created_utc']) + \" AND link_id = '\" + comment['link_id'] + \"'\", conn)\n",
    "        # number of comments by supsicious users (BEFORE current comment)- this will tell us how long user stayed in discussion\n",
    "        numof_author_older_comments = psql.read_sql(\"SELECT count(id) FROM comments WHERE created_utc < \" + str(comment['created_utc']) + \" AND link_id = '\" + comment['link_id'] + \"' AND author = '\" + comment['author'] + \"'\", conn)\n",
    "    \n",
    "        # number of comments in most developed comment thread\n",
    "        numof_most_replies = psql.read_sql(\"SELECT count(id) as count FROM comments WHERE created_utc < \" + str(comment['created_utc']) + \" AND link_id = '\" + comment['link_id'] + \"' GROUP BY parent_id ORDER BY count DESC LIMIT 1\", conn)\n",
    "        if (numof_most_replies.empty):\n",
    "            numof_most_replies = pd.DataFrame(columns=['count'])\n",
    "            numof_most_replies.loc[0] = [0]\n",
    "        # number of comments with score greater than sum of people in thread\n",
    "        # that means that specific comment is considered as \"good\" even by people that are not directly in conversation\n",
    "        numof_top_comments = psql.read_sql(\"SELECT count(id) FROM comments WHERE created_utc < \" + str(comment['created_utc']) + \" AND link_id = '\" + comment['link_id'] + \"' AND score > '\" + str(numof_authors['count'][0]) + \"'\", conn)\n",
    "        # number of comments with negative score\n",
    "        numof_worst_comments = psql.read_sql(\"SELECT count(id) FROM comments WHERE created_utc < \" + str(comment['created_utc']) + \" AND link_id = '\" + comment['link_id'] + \"' AND score < 0 \", conn)\n",
    "        # score of comment made by user\n",
    "        score = comment['score']\n",
    "        # datetime of comment\n",
    "        created_utc = comment['created_utc']\n",
    "        # subbretid where comment was made\n",
    "        subreddit = comment['subreddit']\n",
    "    \n",
    "        # 1 - for suspicious user\n",
    "        dataFrame.loc[i] = [comment['id'], 1, numof_older_comments['count'][0], numof_parent_comments['count'][0], numof_replies['count'][0], numof_authors['count'][0], numof_author_older_comments['count'][0], numof_most_replies['count'][0], numof_top_comments['count'][0], numof_worst_comments['count'][0], score, created_utc, subreddit]\n",
    "        i += 1"
   ]
  },
  {
   "cell_type": "markdown",
   "metadata": {},
   "source": [
    "# calculate attributes for regular users"
   ]
  },
  {
   "cell_type": "code",
   "execution_count": 70,
   "metadata": {},
   "outputs": [
    {
     "name": "stdout",
     "output_type": "stream",
     "text": [
      "237\n"
     ]
    }
   ],
   "source": [
    "pathForRegularComments = 'D:\\\\skola\\\\ING\\\\0.DP\\\\0.dataset\\\\6. Reddit Russian trolls\\\\0.data\\\\normal\\\\DP2\\\\'\n",
    "\n",
    "#ignore blacklisted regular users \n",
    "\n",
    "with open('D:\\\\skola\\\\ING\\\\0.DP\\\\0.dataset\\\\6. Reddit Russian trolls\\\\0.data\\\\blacklistedRegularUsers.pkl', 'rb') as f: \n",
    "    blacklistedRegularUsers = pickle.load(f)\n",
    "\n",
    "j = 0\n",
    "#for all comments made by all regular user - for every regular user\n",
    "for file in glob.glob(pathForRegularComments + '*_comments.pkl'):\n",
    "    with open(file, 'rb') as f: \n",
    "        regularAccountComments = pickle.load(f)\n",
    "    \n",
    "    #if regular user is not blacklisted\n",
    "    if (os.path.basename(file)[:-13] not in blacklistedRegularUsers):  \n",
    "        clear_output()\n",
    "        print(j)\n",
    "        j += 1\n",
    "        for comment in regularAccountComments:\n",
    "            # number of comments made before his (examined user) comment was made\n",
    "            numof_older_comments = psql.read_sql(\"SELECT count(id) FROM comments WHERE created_utc < \" + str(comment['created_utc']) + \" AND link_id = '\" + comment['link_id'] + \"'\", conn)\n",
    "            # number of comments with at least one reply (- 1 because parent can be link_id as well)\n",
    "            numof_parent_comments = psql.read_sql(\"SELECT COUNT(DISTINCT parent_id) - 1 AS count FROM comments WHERE created_utc < \" + str(comment['created_utc']) + \" AND link_id = '\" + comment['link_id'] + \"'\", conn)\n",
    "            # number of total replies in submission\n",
    "            numof_replies = psql.read_sql(\"SELECT count(id) FROM comments WHERE created_utc < \" + str(comment['created_utc']) + \" AND link_id = '\" + comment['link_id'] + \"' and parent_id != '\" + comment['link_id'] + \"'\", conn)\n",
    "            # number of unique authors in submisission to the point user made comment (including regular user that made comment we are calculating attributes for)\n",
    "            numof_authors = psql.read_sql(\"SELECT COUNT(DISTINCT author) FROM comments WHERE created_utc < \" + str(comment['created_utc']) + \" AND link_id = '\" + comment['link_id'] + \"'\", conn)\n",
    "            # number of comments by supsicious users (BEFORE current comment)- this will tell us how long user stayed in discussion\n",
    "            numof_author_older_comments = psql.read_sql(\"SELECT count(id) FROM comments WHERE created_utc < \" + str(comment['created_utc']) + \" AND link_id = '\" + comment['link_id'] + \"' AND author = '\" + comment['author'] + \"'\", conn)\n",
    "            \n",
    "            # number of comments in most developed comment thread\n",
    "            numof_most_replies = psql.read_sql(\"SELECT count(id) as count FROM comments WHERE created_utc < \" + str(comment['created_utc']) + \" AND link_id = '\" + comment['link_id'] + \"' GROUP BY parent_id ORDER BY count DESC LIMIT 1\", conn)\n",
    "            if (numof_most_replies.empty):\n",
    "                numof_most_replies = pd.DataFrame(columns=['count'])\n",
    "                numof_most_replies.loc[0] = [0]\n",
    "            # number of comments with score greater than sum of people in thread\n",
    "            # that means that specific comment is considered as \"good\" even by people that are not directly in conversation\n",
    "            numof_top_comments = psql.read_sql(\"SELECT count(id) FROM comments WHERE created_utc < \" + str(comment['created_utc']) + \" AND link_id = '\" + comment['link_id'] + \"' AND score > '\" + str(numof_authors['count'][0]) + \"'\", conn)\n",
    "            # number of comments with negative score\n",
    "            numof_worst_comments = psql.read_sql(\"SELECT count(id) FROM comments WHERE created_utc < \" + str(comment['created_utc']) + \" AND link_id = '\" + comment['link_id'] + \"' AND score < 0 \", conn)\n",
    "            # score of comment made by user\n",
    "            score = comment['score']\n",
    "            # datetime of comment\n",
    "            created_utc = comment['created_utc']\n",
    "            # subbretid where comment was made\n",
    "            subreddit = comment['subreddit']\n",
    "            \n",
    "            dataFrame.loc[i] = [comment['id'], 0, numof_older_comments['count'][0], numof_parent_comments['count'][0], numof_replies['count'][0], numof_authors['count'][0], numof_author_older_comments['count'][0], numof_most_replies['count'][0], numof_top_comments['count'][0], numof_worst_comments['count'][0], score, created_utc, subreddit]\n",
    "            i += 1"
   ]
  },
  {
   "cell_type": "markdown",
   "metadata": {},
   "source": [
    "# save dataframe "
   ]
  },
  {
   "cell_type": "code",
   "execution_count": 71,
   "metadata": {},
   "outputs": [],
   "source": [
    "#save complete submissions\n",
    "path = 'D:\\\\skola\\\\ING\\\\0.DP\\\\0.dataset\\\\6. Reddit Russian trolls\\\\0.data\\\\'\n",
    "filename = 'attributes.pkl'\n",
    "with open(path + filename, 'wb') as f:\n",
    "    pickle.dump(dataFrame, f)"
   ]
  },
  {
   "cell_type": "markdown",
   "metadata": {},
   "source": [
    "# calculation of individual attributes"
   ]
  },
  {
   "cell_type": "code",
   "execution_count": 8,
   "metadata": {},
   "outputs": [],
   "source": [
    "for comment in suspiciousAccountComments:\n",
    "    # number of comments made before his (examined user) comment was made\n",
    "    df = psql.read_sql(\"SELECT count(id) FROM comments WHERE created_utc < \" + str(comment['created_utc']) + \" AND link_id = '\" + comment['link_id'] + \"'\", conn)\n",
    "    df\n",
    "    break"
   ]
  },
  {
   "cell_type": "code",
   "execution_count": null,
   "metadata": {},
   "outputs": [],
   "source": []
  },
  {
   "cell_type": "code",
   "execution_count": 75,
   "metadata": {},
   "outputs": [],
   "source": [
    "for comment in suspiciousAccountComments:\n",
    "    # number of comments with at least one reply (- 1 because parent can be link_id as well)\n",
    "    df = psql.read_sql(\"SELECT COUNT(DISTINCT parent_id) - 1 AS count FROM comments WHERE created_utc < \" + str(comment['created_utc']) + \" AND link_id = '\" + comment['link_id'] + \"'\", conn)\n",
    "    df\n",
    "    break"
   ]
  },
  {
   "cell_type": "code",
   "execution_count": 81,
   "metadata": {},
   "outputs": [
    {
     "data": {
      "text/plain": [
       "14"
      ]
     },
     "execution_count": 81,
     "metadata": {},
     "output_type": "execute_result"
    }
   ],
   "source": [
    "df['count'][0]"
   ]
  },
  {
   "cell_type": "code",
   "execution_count": 59,
   "metadata": {},
   "outputs": [],
   "source": [
    "for comment in suspiciousAccountComments:\n",
    "    # number of total replies in submission\n",
    "    df = psql.read_sql(\"SELECT count(id) FROM comments WHERE created_utc < \" + str(comment['created_utc']) + \" AND link_id = '\" + comment['link_id'] + \"' and parent_id != '\" + comment['link_id'] + \"'\", conn)\n",
    "    df\n",
    "    break"
   ]
  },
  {
   "cell_type": "code",
   "execution_count": 60,
   "metadata": {},
   "outputs": [
    {
     "data": {
      "text/html": [
       "<div>\n",
       "<style scoped>\n",
       "    .dataframe tbody tr th:only-of-type {\n",
       "        vertical-align: middle;\n",
       "    }\n",
       "\n",
       "    .dataframe tbody tr th {\n",
       "        vertical-align: top;\n",
       "    }\n",
       "\n",
       "    .dataframe thead th {\n",
       "        text-align: right;\n",
       "    }\n",
       "</style>\n",
       "<table border=\"1\" class=\"dataframe\">\n",
       "  <thead>\n",
       "    <tr style=\"text-align: right;\">\n",
       "      <th></th>\n",
       "      <th>count</th>\n",
       "    </tr>\n",
       "  </thead>\n",
       "  <tbody>\n",
       "    <tr>\n",
       "      <th>0</th>\n",
       "      <td>25</td>\n",
       "    </tr>\n",
       "  </tbody>\n",
       "</table>\n",
       "</div>"
      ],
      "text/plain": [
       "   count\n",
       "0     25"
      ]
     },
     "execution_count": 60,
     "metadata": {},
     "output_type": "execute_result"
    }
   ],
   "source": [
    "df"
   ]
  },
  {
   "cell_type": "code",
   "execution_count": 63,
   "metadata": {},
   "outputs": [],
   "source": [
    "for comment in suspiciousAccountComments:\n",
    "    # number of unique authors in submisission to the point user made comment (including suspicious user that made comment we are calculating attributes for)\n",
    "    df = psql.read_sql(\"SELECT COUNT(DISTINCT author) FROM comments WHERE created_utc < \" + str(comment['created_utc']) + \" AND link_id = '\" + comment['link_id'] + \"'\", conn)\n",
    "    df\n",
    "    break"
   ]
  },
  {
   "cell_type": "code",
   "execution_count": 64,
   "metadata": {},
   "outputs": [
    {
     "data": {
      "text/html": [
       "<div>\n",
       "<style scoped>\n",
       "    .dataframe tbody tr th:only-of-type {\n",
       "        vertical-align: middle;\n",
       "    }\n",
       "\n",
       "    .dataframe tbody tr th {\n",
       "        vertical-align: top;\n",
       "    }\n",
       "\n",
       "    .dataframe thead th {\n",
       "        text-align: right;\n",
       "    }\n",
       "</style>\n",
       "<table border=\"1\" class=\"dataframe\">\n",
       "  <thead>\n",
       "    <tr style=\"text-align: right;\">\n",
       "      <th></th>\n",
       "      <th>count</th>\n",
       "    </tr>\n",
       "  </thead>\n",
       "  <tbody>\n",
       "    <tr>\n",
       "      <th>0</th>\n",
       "      <td>17</td>\n",
       "    </tr>\n",
       "  </tbody>\n",
       "</table>\n",
       "</div>"
      ],
      "text/plain": [
       "   count\n",
       "0     17"
      ]
     },
     "execution_count": 64,
     "metadata": {},
     "output_type": "execute_result"
    }
   ],
   "source": [
    "df"
   ]
  },
  {
   "cell_type": "code",
   "execution_count": 73,
   "metadata": {},
   "outputs": [],
   "source": [
    "for comment in suspiciousAccountComments:\n",
    "    # number of comments by supsicious users (BEFORE current comment)- this will tell us how long user stayed in discussion\n",
    "    df = psql.read_sql(\"SELECT count(id) FROM comments WHERE created_utc < \" + str(comment['created_utc']) + \" AND link_id = '\" + comment['link_id'] + \"' AND author = '\" + comment['author'] + \"'\", conn)\n",
    "    df\n",
    "    break"
   ]
  },
  {
   "cell_type": "code",
   "execution_count": 74,
   "metadata": {},
   "outputs": [
    {
     "data": {
      "text/html": [
       "<div>\n",
       "<style scoped>\n",
       "    .dataframe tbody tr th:only-of-type {\n",
       "        vertical-align: middle;\n",
       "    }\n",
       "\n",
       "    .dataframe tbody tr th {\n",
       "        vertical-align: top;\n",
       "    }\n",
       "\n",
       "    .dataframe thead th {\n",
       "        text-align: right;\n",
       "    }\n",
       "</style>\n",
       "<table border=\"1\" class=\"dataframe\">\n",
       "  <thead>\n",
       "    <tr style=\"text-align: right;\">\n",
       "      <th></th>\n",
       "      <th>count</th>\n",
       "    </tr>\n",
       "  </thead>\n",
       "  <tbody>\n",
       "    <tr>\n",
       "      <th>0</th>\n",
       "      <td>2</td>\n",
       "    </tr>\n",
       "  </tbody>\n",
       "</table>\n",
       "</div>"
      ],
      "text/plain": [
       "   count\n",
       "0      2"
      ]
     },
     "execution_count": 74,
     "metadata": {},
     "output_type": "execute_result"
    }
   ],
   "source": [
    "df"
   ]
  },
  {
   "cell_type": "code",
   "execution_count": null,
   "metadata": {},
   "outputs": [],
   "source": [
    "# of comments in most developed comment thread\n",
    "# of comments with score greater than threshold X"
   ]
  },
  {
   "cell_type": "code",
   "execution_count": 32,
   "metadata": {},
   "outputs": [],
   "source": [
    "for comment in suspiciousAccountComments:\n",
    "    # number of total replies in submission\n",
    "    df = psql.read_sql(\"SELECT count(id) FROM comments WHERE created_utc < \" + str(comment['created_utc']) + \" AND link_id = '\" + comment['link_id'] + \"' and parent_id != '\" + comment['link_id'] + \"'\", conn)\n",
    "    df\n",
    "    break"
   ]
  },
  {
   "cell_type": "code",
   "execution_count": 33,
   "metadata": {},
   "outputs": [
    {
     "data": {
      "text/html": [
       "<div>\n",
       "<style scoped>\n",
       "    .dataframe tbody tr th:only-of-type {\n",
       "        vertical-align: middle;\n",
       "    }\n",
       "\n",
       "    .dataframe tbody tr th {\n",
       "        vertical-align: top;\n",
       "    }\n",
       "\n",
       "    .dataframe thead th {\n",
       "        text-align: right;\n",
       "    }\n",
       "</style>\n",
       "<table border=\"1\" class=\"dataframe\">\n",
       "  <thead>\n",
       "    <tr style=\"text-align: right;\">\n",
       "      <th></th>\n",
       "      <th>count</th>\n",
       "    </tr>\n",
       "  </thead>\n",
       "  <tbody>\n",
       "    <tr>\n",
       "      <th>0</th>\n",
       "      <td>25</td>\n",
       "    </tr>\n",
       "  </tbody>\n",
       "</table>\n",
       "</div>"
      ],
      "text/plain": [
       "   count\n",
       "0     25"
      ]
     },
     "execution_count": 33,
     "metadata": {},
     "output_type": "execute_result"
    }
   ],
   "source": [
    "df"
   ]
  },
  {
   "cell_type": "markdown",
   "metadata": {},
   "source": [
    "# DP3"
   ]
  },
  {
   "cell_type": "code",
   "execution_count": 30,
   "metadata": {},
   "outputs": [
    {
     "name": "stdout",
     "output_type": "stream",
     "text": [
      "   count\n",
      "0      7\n"
     ]
    }
   ],
   "source": [
    "for comment in suspiciousAccountComments:\n",
    "    # number of comments in most developed comment thread\n",
    "    df = psql.read_sql(\"SELECT count(id) as count FROM comments WHERE created_utc < \" + str(comment['created_utc']) + \" AND link_id = '\" + comment['link_id'] + \"' GROUP BY parent_id ORDER BY count DESC LIMIT 1\", conn)\n",
    "    print(df)\n",
    "    break"
   ]
  },
  {
   "cell_type": "code",
   "execution_count": 29,
   "metadata": {},
   "outputs": [
    {
     "name": "stdout",
     "output_type": "stream",
     "text": [
      "   count\n",
      "0      6\n"
     ]
    }
   ],
   "source": [
    "for comment in suspiciousAccountComments:\n",
    "    # number of unique authors in submisission to the point user made comment (including suspicious user that made comment we are calculating attributes for)\n",
    "    df = psql.read_sql(\"SELECT COUNT(DISTINCT author) FROM comments WHERE created_utc < \" + str(comment['created_utc']) + \" AND link_id = '\" + comment['link_id'] + \"'\", conn)    \n",
    "    \n",
    "    # number of comments with score greater than sum of people in thread\n",
    "    # that means that specific comment is considered as \"good\" even by people that are not directly in conversation\n",
    "    df = psql.read_sql(\"SELECT count(id) FROM comments WHERE created_utc < \" + str(comment['created_utc']) + \" AND link_id = '\" + comment['link_id'] + \"' AND score > '\" + str(df['count'][0]) + \"'\", conn)\n",
    "    print(df)\n",
    "    break"
   ]
  },
  {
   "cell_type": "code",
   "execution_count": 28,
   "metadata": {},
   "outputs": [
    {
     "name": "stdout",
     "output_type": "stream",
     "text": [
      "   count\n",
      "0      5\n"
     ]
    }
   ],
   "source": [
    "for comment in suspiciousAccountComments:\n",
    "    # number of comments with negative score\n",
    "    df = psql.read_sql(\"SELECT count(id) FROM comments WHERE created_utc < \" + str(comment['created_utc']) + \" AND link_id = '\" + comment['link_id'] + \"' AND score < 0 \", conn)\n",
    "    print(df)\n",
    "    break"
   ]
  },
  {
   "cell_type": "code",
   "execution_count": 27,
   "metadata": {},
   "outputs": [
    {
     "name": "stdout",
     "output_type": "stream",
     "text": [
      "-7\n"
     ]
    }
   ],
   "source": [
    "for comment in suspiciousAccountComments:\n",
    "    # score of comment made by user\n",
    "    print(comment['score'])\n",
    "    break"
   ]
  },
  {
   "cell_type": "code",
   "execution_count": 37,
   "metadata": {},
   "outputs": [
    {
     "name": "stdout",
     "output_type": "stream",
     "text": [
      "1467090533\n"
     ]
    }
   ],
   "source": [
    "for comment in suspiciousAccountComments:\n",
    "    # datetime of comment\n",
    "    print(comment['created_utc'])\n",
    "    break"
   ]
  },
  {
   "cell_type": "code",
   "execution_count": 38,
   "metadata": {},
   "outputs": [
    {
     "name": "stdout",
     "output_type": "stream",
     "text": [
      "newzealand\n"
     ]
    }
   ],
   "source": [
    "for comment in suspiciousAccountComments:\n",
    "    # subbretid where comment was made\n",
    "    print(comment['subreddit'])\n",
    "    break"
   ]
  }
 ],
 "metadata": {
  "kernelspec": {
   "display_name": "Python 3",
   "language": "python",
   "name": "python3"
  },
  "language_info": {
   "codemirror_mode": {
    "name": "ipython",
    "version": 3
   },
   "file_extension": ".py",
   "mimetype": "text/x-python",
   "name": "python",
   "nbconvert_exporter": "python",
   "pygments_lexer": "ipython3",
   "version": "3.6.4"
  }
 },
 "nbformat": 4,
 "nbformat_minor": 2
}
